{
  "nbformat": 4,
  "nbformat_minor": 0,
  "metadata": {
    "colab": {
      "provenance": [],
      "include_colab_link": true
    },
    "kernelspec": {
      "name": "python3",
      "display_name": "Python 3"
    },
    "language_info": {
      "name": "python"
    }
  },
  "cells": [
    {
      "cell_type": "markdown",
      "metadata": {
        "id": "view-in-github",
        "colab_type": "text"
      },
      "source": [
        "<a href=\"https://colab.research.google.com/github/Lourdest812/python-exercises/blob/main/Ejercicios.ipynb\" target=\"_parent\"><img src=\"https://colab.research.google.com/assets/colab-badge.svg\" alt=\"Open In Colab\"/></a>"
      ]
    },
    {
      "cell_type": "markdown",
      "source": [
        "Ejercicios de Listas"
      ],
      "metadata": {
        "id": "3Yfz3YXvanOy"
      }
    },
    {
      "cell_type": "code",
      "source": [
        "# ✅ EJERCICIO 1 – Sumar elementos de una lista 🔢\n",
        "# Dada la siguiente lista, sumá todos los elementos y mostra el resultado por pantalla\n",
        "\n",
        "numeros = [3, 5, 8, 2, 4]\n",
        "\n",
        "suma=0\n",
        "\n",
        "for numero in numeros:\n",
        "  suma +=numero\n",
        "\n",
        "print(suma)"
      ],
      "metadata": {
        "id": "eH4dOgv7h3WM",
        "outputId": "c6e37a9c-ad02-4fc7-aecf-d965aef5dc9c",
        "colab": {
          "base_uri": "https://localhost:8080/"
        }
      },
      "execution_count": 4,
      "outputs": [
        {
          "output_type": "stream",
          "name": "stdout",
          "text": [
            "22\n"
          ]
        }
      ]
    },
    {
      "cell_type": "code",
      "source": [
        "# ✅ EJERCICIO 2 – Encontrar el número más grande de la lista 🔍\n",
        "\n",
        "numeros = [12, 45, 7, 89, 23, 4]\n",
        "\n",
        "max = numeros[0]\n",
        "\n",
        "for numero in numeros:\n",
        "  if numero > max:\n",
        "    max = numero\n",
        "\n",
        "print(max)"
      ],
      "metadata": {
        "id": "2OlqdE-Fh93k",
        "outputId": "174c1604-2c57-415a-b52e-3d2d0ebe5d80",
        "colab": {
          "base_uri": "https://localhost:8080/"
        }
      },
      "execution_count": 5,
      "outputs": [
        {
          "output_type": "stream",
          "name": "stdout",
          "text": [
            "89\n"
          ]
        }
      ]
    },
    {
      "cell_type": "code",
      "source": [
        "# ✅ EJERCICIO 3 – Agregar y eliminar elementos ✏️❌\n",
        "\n",
        "frutas = [\"manzana\", \"banana\", \"naranja\"]\n",
        "\n",
        "# Agregá una fruta al final y otra al inicio 🍎🍍\n",
        "# Eliminá la segunda fruta de la lista\n",
        "# Mostrá la lista final\n",
        "# OJO: Hacelo primero solamente usando bucles. Después hacelo de vuelta usando metodos de lista\n",
        "\n",
        "i=0\n",
        "\n",
        "for i in range(len(frutas)):\n",
        "  if i==0:\n",
        "    frutas[i] = \"pera\"\n",
        "\n",
        "  if i==1:\n",
        "    frutas.remove(frutas[i])\n",
        "  #if i== len(frutas)-1:\n",
        "   # frutas[i+1] = \"sandia\"\n",
        "print(frutas)"
      ],
      "metadata": {
        "id": "sP0Gr6jViBG_",
        "outputId": "1ecaa10d-4bb4-45d8-e8c0-cd287a5193d7",
        "colab": {
          "base_uri": "https://localhost:8080/"
        }
      },
      "execution_count": 15,
      "outputs": [
        {
          "output_type": "stream",
          "name": "stdout",
          "text": [
            "['pera', 'naranja']\n"
          ]
        }
      ]
    },
    {
      "cell_type": "code",
      "source": [
        "# ✅ EJERCICIO 4 – Imprimir una matriz 🖨️\n",
        "\n",
        "matriz = [\n",
        "    [1, 2, 3],\n",
        "    [4, 5, 6],\n",
        "    [7, 8, 9]\n",
        "]\n",
        "\n",
        "print(\"Muestro los elementos: \")\n",
        "\n",
        "for filas in matriz:\n",
        "  for columnas in filas:\n",
        "    print(columnas)\n",
        "\n",
        "# Mostrá la matriz de forma ordenada (una fila por línea)\n",
        "\n",
        "print(\"Muestro fila por fila: \")\n",
        "\n",
        "for filas in matriz:\n",
        "  print(filas)"
      ],
      "metadata": {
        "id": "o00XkAK4iNTy",
        "outputId": "f028c949-f2c3-44bd-b0ae-4afb89dc0b75",
        "colab": {
          "base_uri": "https://localhost:8080/"
        }
      },
      "execution_count": 61,
      "outputs": [
        {
          "output_type": "stream",
          "name": "stdout",
          "text": [
            "Muestro los elementos: \n",
            "1\n",
            "2\n",
            "3\n",
            "4\n",
            "5\n",
            "6\n",
            "7\n",
            "8\n",
            "9\n",
            "Muestro fila por fila: \n",
            "[1, 2, 3]\n",
            "[4, 5, 6]\n",
            "[7, 8, 9]\n"
          ]
        }
      ]
    },
    {
      "cell_type": "code",
      "source": [
        "# ✅ EJERCICIO 5 – Mostrar la diagonal principal ➕📐\n",
        "\n",
        "# Mostrá los números 1, 5 y 9 accediendo solo a los índices correctos\n",
        "# Recordá: diagonal principal = cuando fila == columna\n",
        "matriz = [\n",
        "    [1, 2, 3],\n",
        "    [4, 5, 6],\n",
        "    [7, 8, 9]\n",
        "]\n",
        "\n",
        "for filas in range(len(matriz)):\n",
        "  for columnas in range(len(matriz[filas])):\n",
        "    if filas == columnas:\n",
        "      print(matriz[filas][columnas])"
      ],
      "metadata": {
        "id": "RZw8F-reiYZt",
        "outputId": "7cbb835a-df4f-4e60-aac4-cb65bbbf06a2",
        "colab": {
          "base_uri": "https://localhost:8080/"
        }
      },
      "execution_count": 54,
      "outputs": [
        {
          "output_type": "stream",
          "name": "stdout",
          "text": [
            "1\n",
            "5\n",
            "9\n"
          ]
        }
      ]
    },
    {
      "cell_type": "code",
      "source": [
        "# ✅ EJERCICIO 6 – Sumar todos los elementos de una matriz ➕\n",
        "\n",
        "matriz = [\n",
        "    [2, 4],\n",
        "    [6, 8]\n",
        "]\n",
        "\n",
        "# Sumá todos los números de la matriz y mostrálos\n",
        "\n",
        "suma = 0\n",
        "\n",
        "for fila in matriz:\n",
        "  print(fila)\n",
        "  for columna in fila:\n",
        "    suma = suma + columna\n",
        "print(suma)"
      ],
      "metadata": {
        "id": "D7Wj4om4ikoH",
        "outputId": "4c66c151-246c-447b-b7c3-af26daa5ae86",
        "colab": {
          "base_uri": "https://localhost:8080/"
        }
      },
      "execution_count": 57,
      "outputs": [
        {
          "output_type": "stream",
          "name": "stdout",
          "text": [
            "[2, 4]\n",
            "[6, 8]\n",
            "20\n"
          ]
        }
      ]
    },
    {
      "cell_type": "code",
      "source": [
        "# ✅ EJERCICIO 7 – Contar cuántos números pares hay en la matriz 🔢🟰\n",
        "\n",
        "matriz = [\n",
        "    [2, 7, 6],\n",
        "    [5, 8, 1],\n",
        "    [4, 3, 0]\n",
        "]\n",
        "\n",
        "suma_pares = 0\n",
        "\n",
        "for fila in matriz:\n",
        "  for columna in fila:\n",
        "    if columna % 2 == 0 and columna!=0:\n",
        "      suma_pares+=1\n",
        "\n",
        "print(suma_pares)\n",
        "# Contá cuántos números pares hay en la matriz y mostrá el total"
      ],
      "metadata": {
        "id": "PEHPm3GXirY8",
        "outputId": "56a8359f-3fbe-43bb-9176-8d6a564a9bc6",
        "colab": {
          "base_uri": "https://localhost:8080/"
        }
      },
      "execution_count": 60,
      "outputs": [
        {
          "output_type": "stream",
          "name": "stdout",
          "text": [
            "4\n"
          ]
        }
      ]
    },
    {
      "cell_type": "code",
      "source": [
        "# ✅ EJERCICIO 8 – Transponer una matriz ↔️📊\n",
        "# (Intercambiar filas por columnas)\n",
        "\n",
        "matriz = [\n",
        "    [1, 2, 3],\n",
        "    [4, 5, 6]\n",
        "]\n",
        "\n",
        "# Mostrá la matriz transpuesta (columnas pasan a ser filas)\n",
        "\n"
      ],
      "metadata": {
        "id": "S6OTejCji1Om"
      },
      "execution_count": null,
      "outputs": []
    },
    {
      "cell_type": "code",
      "source": [
        "# ✅ EJERCICIO 9 – Buscar un número en la matriz 🔍\n",
        "\n",
        "matriz = [\n",
        "    [10, 20, 30],\n",
        "    [40, 50, 60],\n",
        "    [70, 80, 90]\n",
        "]\n",
        "\n",
        "num = 10\n",
        "\n",
        "for filas in matriz:\n",
        "  for columnas in filas:\n",
        "    if columnas == num:\n",
        "      print(\"Lo encontre!!\")\n",
        "\n",
        "\n",
        "# Pedí un número por input y decí si está o no en la matriz (solo con print)\n",
        "\n",
        "num = input(\"Dame un numero: \")\n",
        "if num in matriz:\n",
        "  print(\"El numero esta en la matriz\")\n",
        "else:\n",
        "  print(\"El numero no esta en la matriz\")"
      ],
      "metadata": {
        "id": "cZ4cZg2ijW52",
        "outputId": "3df82fce-ce97-4d6e-dc74-fe2d96925f3e",
        "colab": {
          "base_uri": "https://localhost:8080/"
        }
      },
      "execution_count": 63,
      "outputs": [
        {
          "output_type": "stream",
          "name": "stdout",
          "text": [
            "Lo encontre!!\n",
            "Dame un numero: 4\n",
            "El numero no esta en la matriz\n"
          ]
        }
      ]
    },
    {
      "cell_type": "code",
      "source": [
        "# ✅ EJERCICIO 10 - Dada la lista [\"Ana\", \"Luis\", \"Sofi\", \"Mati\"], mostrar las dos primeras y las dos últimas personas.\n",
        "\n",
        "personas = [\"Ana\", \"Luis\", \"Sofi\", \"Mati\"]\n",
        "\n",
        "# Sugerencia: Usá slicing para obtener sublistas."
      ],
      "metadata": {
        "id": "TyjSbUwJribQ"
      },
      "execution_count": null,
      "outputs": []
    }
  ]
}