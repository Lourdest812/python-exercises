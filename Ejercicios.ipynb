{
  "nbformat": 4,
  "nbformat_minor": 0,
  "metadata": {
    "colab": {
      "provenance": [],
      "include_colab_link": true
    },
    "kernelspec": {
      "name": "python3",
      "display_name": "Python 3"
    },
    "language_info": {
      "name": "python"
    }
  },
  "cells": [
    {
      "cell_type": "markdown",
      "metadata": {
        "id": "view-in-github",
        "colab_type": "text"
      },
      "source": [
        "<a href=\"https://colab.research.google.com/github/Lourdest812/python-exercises/blob/main/Ejercicios.ipynb\" target=\"_parent\"><img src=\"https://colab.research.google.com/assets/colab-badge.svg\" alt=\"Open In Colab\"/></a>"
      ]
    },
    {
      "cell_type": "markdown",
      "source": [
        "Ejercicios de Listas"
      ],
      "metadata": {
        "id": "3Yfz3YXvanOy"
      }
    },
    {
      "cell_type": "code",
      "source": [
        "# ✅ EJERCICIO 1 – Sumar elementos de una lista 🔢\n",
        "# Dada la siguiente lista, sumá todos los elementos y mostra el resultado por pantalla\n",
        "\n",
        "numeros = [3, 5, 8, 2, 4]\n"
      ],
      "metadata": {
        "id": "eH4dOgv7h3WM"
      },
      "execution_count": null,
      "outputs": []
    },
    {
      "cell_type": "code",
      "source": [
        "# ✅ EJERCICIO 2 – Encontrar el número más grande de la lista 🔍\n",
        "\n",
        "numeros = [12, 45, 7, 89, 23, 4]"
      ],
      "metadata": {
        "id": "2OlqdE-Fh93k"
      },
      "execution_count": null,
      "outputs": []
    },
    {
      "cell_type": "code",
      "source": [
        "# ✅ EJERCICIO 3 – Agregar y eliminar elementos ✏️❌\n",
        "\n",
        "frutas = [\"manzana\", \"banana\", \"naranja\"]\n",
        "\n",
        "# Agregá una fruta al final y otra al inicio 🍎🍍\n",
        "# Eliminá la segunda fruta de la lista\n",
        "# Mostrá la lista final\n",
        "# OJO: Hacelo primero solamente usando bucles. Después hacelo de vuelta usando metodos de lista"
      ],
      "metadata": {
        "id": "sP0Gr6jViBG_"
      },
      "execution_count": null,
      "outputs": []
    },
    {
      "cell_type": "code",
      "source": [
        "# ✅ EJERCICIO 4 – Imprimir una matriz 🖨️\n",
        "\n",
        "matriz = [\n",
        "    [1, 2, 3],\n",
        "    [4, 5, 6],\n",
        "    [7, 8, 9]\n",
        "]\n",
        "\n",
        "# Mostrá la matriz de forma ordenada (una fila por línea)"
      ],
      "metadata": {
        "id": "o00XkAK4iNTy"
      },
      "execution_count": null,
      "outputs": []
    },
    {
      "cell_type": "code",
      "source": [
        "# ✅ EJERCICIO 5 – Mostrar la diagonal principal ➕📐\n",
        "\n",
        "# Mostrá los números 1, 5 y 9 accediendo solo a los índices correctos\n",
        "# Recordá: diagonal principal = cuando fila == columna\n",
        "matriz = [\n",
        "    [1, 2, 3],\n",
        "    [4, 5, 6],\n",
        "    [7, 8, 9]\n",
        "]"
      ],
      "metadata": {
        "id": "RZw8F-reiYZt"
      },
      "execution_count": null,
      "outputs": []
    },
    {
      "cell_type": "code",
      "source": [
        "# ✅ EJERCICIO 6 – Sumar todos los elementos de una matriz ➕\n",
        "\n",
        "matriz = [\n",
        "    [2, 4],\n",
        "    [6, 8]\n",
        "]\n",
        "\n",
        "# Sumá todos los números de la matriz y mostrálos"
      ],
      "metadata": {
        "id": "D7Wj4om4ikoH"
      },
      "execution_count": null,
      "outputs": []
    },
    {
      "cell_type": "code",
      "source": [
        "# ✅ EJERCICIO 7 – Contar cuántos números pares hay en la matriz 🔢🟰\n",
        "\n",
        "matriz = [\n",
        "    [2, 7, 6],\n",
        "    [5, 8, 1],\n",
        "    [4, 3, 0]\n",
        "]\n",
        "\n",
        "# Contá cuántos números pares hay en la matriz y mostrá el total"
      ],
      "metadata": {
        "id": "PEHPm3GXirY8"
      },
      "execution_count": null,
      "outputs": []
    },
    {
      "cell_type": "code",
      "source": [
        "# ✅ EJERCICIO 8 – Transponer una matriz ↔️📊\n",
        "# (Intercambiar filas por columnas)\n",
        "\n",
        "matriz = [\n",
        "    [1, 2, 3],\n",
        "    [4, 5, 6]\n",
        "]\n",
        "\n",
        "# Mostrá la matriz transpuesta (columnas pasan a ser filas)"
      ],
      "metadata": {
        "id": "S6OTejCji1Om"
      },
      "execution_count": null,
      "outputs": []
    },
    {
      "cell_type": "code",
      "source": [
        "# ✅ EJERCICIO 9 – Buscar un número en la matriz 🔍\n",
        "\n",
        "matriz = [\n",
        "    [10, 20, 30],\n",
        "    [40, 50, 60],\n",
        "    [70, 80, 90]\n",
        "]\n",
        "\n",
        "# Pedí un número por input y decí si está o no en la matriz (solo con print)"
      ],
      "metadata": {
        "id": "cZ4cZg2ijW52"
      },
      "execution_count": null,
      "outputs": []
    },
    {
      "cell_type": "code",
      "source": [
        "# ✅ EJERCICIO 10 - Dada la lista [\"Ana\", \"Luis\", \"Sofi\", \"Mati\"], mostrar las dos primeras y las dos últimas personas.\n",
        "\n",
        "personas = [\"Ana\", \"Luis\", \"Sofi\", \"Mati\"]\n",
        "\n",
        "# Sugerencia: Usá slicing para obtener sublistas."
      ],
      "metadata": {
        "id": "TyjSbUwJribQ"
      },
      "execution_count": null,
      "outputs": []
    },
    {
      "cell_type": "code",
      "source": [],
      "metadata": {
        "id": "MX8n1JXvrnMj"
      },
      "execution_count": null,
      "outputs": []
    }
  ]
}